{
 "cells": [
  {
   "cell_type": "markdown",
   "id": "ed872271",
   "metadata": {},
   "source": [
    "#  Handle Data"
   ]
  },
  {
   "cell_type": "code",
   "execution_count": 1,
   "id": "52e1b4cf",
   "metadata": {},
   "outputs": [
    {
     "name": "stdout",
     "output_type": "stream",
     "text": [
      "Train: 101\n",
      "Test: 48\n"
     ]
    }
   ],
   "source": [
    "import csv\n",
    "#The first thing we need to do is load our data file.\n",
    "with open('iris.data.txt', 'r') as csvfile:\n",
    "     \"\"\" lines = csv.reader(csvfile)\n",
    "    for row in lines :\n",
    "        print (','.join(row))\"\"\"\n",
    "    \n",
    "import random\n",
    "#Next we need to split the data into a training dataset \n",
    "\n",
    "def loadDataset(filename, split, trainingSet=[] , testSet=[]):\n",
    "\n",
    "    with open(filename, 'r') as (csvfile):\n",
    "\n",
    "        lines = csv.reader(csvfile)\n",
    "\n",
    "        dataset = list(lines)\n",
    "      \n",
    "        for x in range(len(dataset)-1):\n",
    "            \n",
    "            for y in range(4):\n",
    "\n",
    "                dataset[x][y] = float(dataset[x][y])\n",
    "\n",
    "            if random.random() < split:\n",
    "                trainingSet.append(dataset[x])\n",
    "            else:\n",
    "                testSet.append(dataset[x])\n",
    "\n",
    "#We can test this function out with our iris dataset, as follows:\n",
    "trainingSet=[]\n",
    "\n",
    "testSet=[]\n",
    "\n",
    "loadDataset('iris.data.txt', 0.66, trainingSet, testSet)\n",
    "\n",
    "print ('Train: ' + repr(len(trainingSet)))\n",
    "\n",
    "print ('Test: ' + repr(len(testSet)) )\n",
    "\n",
    "   \n"
   ]
  },
  {
   "cell_type": "markdown",
   "id": "b0fa6def",
   "metadata": {},
   "source": [
    "# Similarity"
   ]
  },
  {
   "cell_type": "code",
   "execution_count": 2,
   "id": "049d6429",
   "metadata": {},
   "outputs": [
    {
     "name": "stdout",
     "output_type": "stream",
     "text": [
      "Distance: 3.4641016151377544\n"
     ]
    }
   ],
   "source": [
    "import math\n",
    "\n",
    "def euclideanDistance(instance1, instance2, length):   \n",
    "    eucli  = 0\n",
    "    for i in  range(length):\n",
    "        eucli += (instance2[i] - instance1[i])**2\n",
    "    return math.sqrt(eucli)\n",
    "#We can test this function with some sample data\n",
    "data1 = [2, 2, 2, 'a']\n",
    "data2 = [4, 4, 4, 'b']\n",
    "distance = euclideanDistance(data1, data2, 3)\n",
    "\n",
    "print ('Distance: ' + repr(distance))"
   ]
  },
  {
   "cell_type": "markdown",
   "id": "9f3cf278",
   "metadata": {},
   "source": [
    "# Neighbors"
   ]
  },
  {
   "cell_type": "code",
   "execution_count": 3,
   "id": "9bc964f6",
   "metadata": {},
   "outputs": [
    {
     "name": "stdout",
     "output_type": "stream",
     "text": [
      "[[4, 4, 4, 'b']]\n"
     ]
    }
   ],
   "source": [
    "import operator\n",
    "\n",
    "def getNeighbors(trainingSet, testInstance, k):\n",
    "\n",
    "    distances = []\n",
    "\n",
    "    length = len(testInstance)-1\n",
    "\n",
    "    for x in range(len(trainingSet)):\n",
    "\n",
    "        dist = euclideanDistance(testInstance, trainingSet[x], length)\n",
    "\n",
    "        distances.append((trainingSet[x], dist))\n",
    "\n",
    "        distances.sort(key=operator.itemgetter(1))\n",
    "\n",
    "    neighbors = []\n",
    "\n",
    "    for x in range(k):\n",
    "\n",
    "        neighbors.append(distances[x][0])\n",
    "\n",
    "    return neighbors\n",
    "\n",
    "#We can test out this function as follows:\n",
    "\n",
    "trainSet = [[2, 2, 2, 'a'], [4, 4, 4, 'b']]\n",
    "\n",
    "testInstance = [5, 5, 5]\n",
    "\n",
    "k = 1\n",
    "\n",
    "neighbors = getNeighbors(trainSet, testInstance, 1)\n",
    "\n",
    "print(neighbors)"
   ]
  },
  {
   "cell_type": "markdown",
   "id": "1fdccb7d",
   "metadata": {},
   "source": [
    "# Response"
   ]
  },
  {
   "cell_type": "code",
   "execution_count": 4,
   "id": "ac43b634",
   "metadata": {},
   "outputs": [
    {
     "name": "stdout",
     "output_type": "stream",
     "text": [
      "a\n"
     ]
    }
   ],
   "source": [
    "import operator\n",
    "\n",
    "def getResponse(neighbors):\n",
    "\n",
    "    classVotes = {}\n",
    "    \n",
    "\n",
    "    for x in range(len(neighbors)):\n",
    "        \n",
    "        response = neighbors[x][-1] \n",
    "        \n",
    "        #classVotes[response] +=1 if response in classVotes else classVotes[response]  1\n",
    "        \n",
    "        if response in classVotes :\n",
    "            classVotes[response] +=1\n",
    "        else : \n",
    "            classVotes[response] =1\n",
    "    \n",
    "    sortedVotes = sorted(classVotes.items(), key=operator.itemgetter(1), reverse=True)\n",
    "\n",
    "    return sortedVotes[0][0]\n",
    "\n",
    "#We can test out this function with some test neighbors, as follows:\n",
    "\n",
    "neighbors = [[1,1,1,'a'], [2,2,2,'a'], [3,3,3,'b']]\n",
    "#print (len(neighbors))\n",
    "\n",
    "response = getResponse(neighbors)\n",
    "\n",
    "print(response)"
   ]
  },
  {
   "cell_type": "markdown",
   "id": "c516bff8",
   "metadata": {},
   "source": [
    "# Accuracy"
   ]
  },
  {
   "cell_type": "code",
   "execution_count": 5,
   "id": "19a517e9",
   "metadata": {},
   "outputs": [
    {
     "name": "stdout",
     "output_type": "stream",
     "text": [
      "66.66666666666666\n"
     ]
    }
   ],
   "source": [
    "def getAccuracy(testSet, predictions):\n",
    "    \n",
    "    correct = 0\n",
    "    \n",
    "    for i in range (len(testSet)):\n",
    "        \n",
    "        if predictions[i] in testSet [i][-1] : correct += 1\n",
    "        \n",
    "    return (correct/float(len(testSet))) * 100.0\n",
    "#We can test out this function as follows:\n",
    "testSet = [[1,1,1,'a'], [2,2,2,'a'], [3,3,3,'b']]\n",
    "\n",
    "predictions = ['a', 'a', 'a']\n",
    "\n",
    "accuracy = getAccuracy(testSet, predictions)\n",
    "\n",
    "print(accuracy)"
   ]
  },
  {
   "cell_type": "markdown",
   "id": "b008b66f",
   "metadata": {},
   "source": [
    "# Main"
   ]
  },
  {
   "cell_type": "code",
   "execution_count": 6,
   "id": "273b3394",
   "metadata": {},
   "outputs": [
    {
     "name": "stdout",
     "output_type": "stream",
     "text": [
      "35.84905660377358\n"
     ]
    }
   ],
   "source": [
    "import math\n",
    "import operator\n",
    "def KNN(trainingSet= [], testSet=[] , k = 1):\n",
    "    \n",
    "    distances = []\n",
    "\n",
    "    predictions =[]\n",
    "    \n",
    "    for line_testSet in testSet:\n",
    "        \n",
    "        length = len(line_testSet)-1\n",
    "        \n",
    "       \n",
    "    \n",
    "        for a in range (len(trainingSet)):\n",
    "        \n",
    "            eucli = 0\n",
    "        \n",
    "            for i in  range(length):\n",
    "                \n",
    "                eucli += (trainingSet[a][i] - line_testSet[i])**2\n",
    "    \n",
    "            eucli_distan = math.sqrt(eucli)\n",
    "        \n",
    "\n",
    "            distances.append((trainingSet[a], eucli))\n",
    "\n",
    "            distances.sort(key=operator.itemgetter(1))\n",
    "\n",
    "        neighbors = []\n",
    "\n",
    "        for x in range(k):\n",
    "\n",
    "            neighbors.append(distances[x][0])\n",
    "    \n",
    "        classVotes = {}\n",
    "    \n",
    "\n",
    "        for b in range(len(neighbors)):\n",
    "        \n",
    "            response = neighbors[b][-1] \n",
    "        \n",
    "        #classVotes[response] +=1 if response in classVotes else classVotes[response]  1\n",
    "        \n",
    "            if response in classVotes :\n",
    "                classVotes[response] +=1\n",
    "            else : \n",
    "                classVotes[response] =1\n",
    "    \n",
    "        sortedVotes = sorted(classVotes.items(), key=operator.itemgetter(1), reverse=True)\n",
    "\n",
    "        response = sortedVotes[0][0]\n",
    "        predictions.append(response)\n",
    "    \n",
    "    correct = 0\n",
    "    \n",
    "    for c in range (len(testSet)):\n",
    "        \n",
    "        \n",
    "        if  testSet[c][-1] == predictions[c] : \n",
    "            correct += 1\n",
    "        \n",
    "    \n",
    "    return (correct/float(len(testSet))) * 100.0\n",
    "\n",
    "trainingSet = []\n",
    "testSet = []\n",
    "loadDataset('iris.data.txt', 0.70, trainingSet, testSet)\n",
    "\n",
    "print(KNN(trainingSet, testSet, 1))\n",
    "\n",
    "    \n",
    "    \n",
    "    "
   ]
  },
  {
   "cell_type": "markdown",
   "id": "c60a8598",
   "metadata": {},
   "source": [
    "# Another distance metric"
   ]
  },
  {
   "cell_type": "code",
   "execution_count": 7,
   "id": "0cac4cec",
   "metadata": {},
   "outputs": [
    {
     "name": "stdout",
     "output_type": "stream",
     "text": [
      "Distance: 6\n"
     ]
    }
   ],
   "source": [
    "import math\n",
    "\n",
    "def manhattandistance(instance1, instance2, length):   \n",
    "    eucli  = 0\n",
    "    for i in  range(length):\n",
    "        eucli += abs((instance2[i] - instance1[i]))\n",
    "    return eucli\n",
    "#We can test this function with some sample data\n",
    "data1 = [2, 2, 2, 'a']\n",
    "data2 = [4, 4, 4, 'b']\n",
    "distance = manhattandistance(data1, data2, 3)\n",
    "\n",
    "print ('Distance: ' + repr(distance))"
   ]
  },
  {
   "cell_type": "code",
   "execution_count": null,
   "id": "2ae506d6",
   "metadata": {},
   "outputs": [],
   "source": []
  }
 ],
 "metadata": {
  "kernelspec": {
   "display_name": "Python 3 (ipykernel)",
   "language": "python",
   "name": "python3"
  },
  "language_info": {
   "codemirror_mode": {
    "name": "ipython",
    "version": 3
   },
   "file_extension": ".py",
   "mimetype": "text/x-python",
   "name": "python",
   "nbconvert_exporter": "python",
   "pygments_lexer": "ipython3",
   "version": "3.9.7"
  }
 },
 "nbformat": 4,
 "nbformat_minor": 5
}
